{
 "cells": [
  {
   "cell_type": "code",
   "execution_count": 1,
   "id": "13c2d833",
   "metadata": {},
   "outputs": [
    {
     "ename": "ModuleNotFoundError",
     "evalue": "No module named 'pandas'",
     "output_type": "error",
     "traceback": [
      "\u001b[1;31m---------------------------------------------------------------------------\u001b[0m",
      "\u001b[1;31mModuleNotFoundError\u001b[0m                       Traceback (most recent call last)",
      "\u001b[1;32ma:\\#KULIAH\\#Microcredential DS\\ITB06_Assignment Tugas Akhir 5_Kelompok 6\\ITB06_Assignment Tugas Akhir 5_Kelompok 6.ipynb Cell 1'\u001b[0m in \u001b[0;36m<cell line: 2>\u001b[1;34m()\u001b[0m\n\u001b[0;32m      <a href='vscode-notebook-cell:/a%3A/%23KULIAH/%23Microcredential%20DS/ITB06_Assignment%20Tugas%20Akhir%205_Kelompok%206/ITB06_Assignment%20Tugas%20Akhir%205_Kelompok%206.ipynb#ch0000000?line=0'>1</a>\u001b[0m \u001b[39m# import library pandas\u001b[39;00m\n\u001b[1;32m----> <a href='vscode-notebook-cell:/a%3A/%23KULIAH/%23Microcredential%20DS/ITB06_Assignment%20Tugas%20Akhir%205_Kelompok%206/ITB06_Assignment%20Tugas%20Akhir%205_Kelompok%206.ipynb#ch0000000?line=1'>2</a>\u001b[0m \u001b[39mimport\u001b[39;00m \u001b[39mpandas\u001b[39;00m \u001b[39mas\u001b[39;00m \u001b[39mpd\u001b[39;00m \n\u001b[0;32m      <a href='vscode-notebook-cell:/a%3A/%23KULIAH/%23Microcredential%20DS/ITB06_Assignment%20Tugas%20Akhir%205_Kelompok%206/ITB06_Assignment%20Tugas%20Akhir%205_Kelompok%206.ipynb#ch0000000?line=3'>4</a>\u001b[0m \u001b[39m# Import library numpy\u001b[39;00m\n\u001b[0;32m      <a href='vscode-notebook-cell:/a%3A/%23KULIAH/%23Microcredential%20DS/ITB06_Assignment%20Tugas%20Akhir%205_Kelompok%206/ITB06_Assignment%20Tugas%20Akhir%205_Kelompok%206.ipynb#ch0000000?line=4'>5</a>\u001b[0m \u001b[39mimport\u001b[39;00m \u001b[39mnumpy\u001b[39;00m \u001b[39mas\u001b[39;00m \u001b[39mnp\u001b[39;00m\n",
      "\u001b[1;31mModuleNotFoundError\u001b[0m: No module named 'pandas'"
     ]
    }
   ],
   "source": [
    "# import library pandas\n",
    "import pandas as pd \n",
    "\n",
    "# Import library numpy\n",
    "import numpy as np\n",
    "\n",
    "# Import library matplotlib dan seaborn untuk visualisasi\n",
    "import matplotlib.pyplot as plt\n",
    "import seaborn as sns\n",
    "\n",
    "# me-non aktifkan peringatan pada python\n",
    "import warnings \n",
    "warnings.filterwarnings('ignore')"
   ]
  },
  {
   "cell_type": "code",
   "execution_count": null,
   "id": "e0bc36de",
   "metadata": {},
   "outputs": [],
   "source": [
    "#Panggil file dan simpan dalam dataframe\n",
    "dataset = pd.read_csv(\"dit.csv\", usecols = ['kota', 'kec', 'trw', 'trt', 'tkk', 'tj'])"
   ]
  },
  {
   "cell_type": "code",
   "execution_count": null,
   "id": "950b3d8b",
   "metadata": {},
   "outputs": [
    {
     "data": {
      "text/html": [
       "<div>\n",
       "<style scoped>\n",
       "    .dataframe tbody tr th:only-of-type {\n",
       "        vertical-align: middle;\n",
       "    }\n",
       "\n",
       "    .dataframe tbody tr th {\n",
       "        vertical-align: top;\n",
       "    }\n",
       "\n",
       "    .dataframe thead th {\n",
       "        text-align: right;\n",
       "    }\n",
       "</style>\n",
       "<table border=\"1\" class=\"dataframe\">\n",
       "  <thead>\n",
       "    <tr style=\"text-align: right;\">\n",
       "      <th></th>\n",
       "      <th>kota</th>\n",
       "      <th>kec</th>\n",
       "      <th>trw</th>\n",
       "      <th>trt</th>\n",
       "      <th>tkk</th>\n",
       "      <th>tj</th>\n",
       "    </tr>\n",
       "  </thead>\n",
       "  <tbody>\n",
       "    <tr>\n",
       "      <th>0</th>\n",
       "      <td>1</td>\n",
       "      <td>1</td>\n",
       "      <td>4</td>\n",
       "      <td>4</td>\n",
       "      <td>35</td>\n",
       "      <td>140</td>\n",
       "    </tr>\n",
       "    <tr>\n",
       "      <th>1</th>\n",
       "      <td>1</td>\n",
       "      <td>2</td>\n",
       "      <td>4</td>\n",
       "      <td>4</td>\n",
       "      <td>0</td>\n",
       "      <td>0</td>\n",
       "    </tr>\n",
       "    <tr>\n",
       "      <th>2</th>\n",
       "      <td>1</td>\n",
       "      <td>2</td>\n",
       "      <td>4</td>\n",
       "      <td>4</td>\n",
       "      <td>0</td>\n",
       "      <td>0</td>\n",
       "    </tr>\n",
       "    <tr>\n",
       "      <th>3</th>\n",
       "      <td>1</td>\n",
       "      <td>3</td>\n",
       "      <td>7</td>\n",
       "      <td>7</td>\n",
       "      <td>155</td>\n",
       "      <td>625</td>\n",
       "    </tr>\n",
       "    <tr>\n",
       "      <th>4</th>\n",
       "      <td>1</td>\n",
       "      <td>4</td>\n",
       "      <td>2</td>\n",
       "      <td>2</td>\n",
       "      <td>52</td>\n",
       "      <td>195</td>\n",
       "    </tr>\n",
       "  </tbody>\n",
       "</table>\n",
       "</div>"
      ],
      "text/plain": [
       "   kota  kec  trw  trt  tkk   tj\n",
       "0     1    1    4    4   35  140\n",
       "1     1    2    4    4    0    0\n",
       "2     1    2    4    4    0    0\n",
       "3     1    3    7    7  155  625\n",
       "4     1    4    2    2   52  195"
      ]
     },
     "execution_count": 3,
     "metadata": {},
     "output_type": "execute_result"
    }
   ],
   "source": [
    "# tampilkan 5 baris data \n",
    "dataset.head(5)"
   ]
  },
  {
   "cell_type": "code",
   "execution_count": null,
   "id": "35f00eb1",
   "metadata": {},
   "outputs": [
    {
     "name": "stdout",
     "output_type": "stream",
     "text": [
      "<class 'pandas.core.frame.DataFrame'>\n",
      "RangeIndex: 150 entries, 0 to 149\n",
      "Data columns (total 6 columns):\n",
      " #   Column  Non-Null Count  Dtype\n",
      "---  ------  --------------  -----\n",
      " 0   kota    150 non-null    int64\n",
      " 1   kec     150 non-null    int64\n",
      " 2   trw     150 non-null    int64\n",
      " 3   trt     150 non-null    int64\n",
      " 4   tkk     150 non-null    int64\n",
      " 5   tj      150 non-null    int64\n",
      "dtypes: int64(6)\n",
      "memory usage: 7.2 KB\n"
     ]
    }
   ],
   "source": [
    "dataset.info()"
   ]
  },
  {
   "cell_type": "code",
   "execution_count": null,
   "id": "09cfd46c",
   "metadata": {},
   "outputs": [
    {
     "data": {
      "text/html": [
       "<div>\n",
       "<style scoped>\n",
       "    .dataframe tbody tr th:only-of-type {\n",
       "        vertical-align: middle;\n",
       "    }\n",
       "\n",
       "    .dataframe tbody tr th {\n",
       "        vertical-align: top;\n",
       "    }\n",
       "\n",
       "    .dataframe thead th {\n",
       "        text-align: right;\n",
       "    }\n",
       "</style>\n",
       "<table border=\"1\" class=\"dataframe\">\n",
       "  <thead>\n",
       "    <tr style=\"text-align: right;\">\n",
       "      <th></th>\n",
       "      <th>kota</th>\n",
       "      <th>kec</th>\n",
       "      <th>trw</th>\n",
       "      <th>trt</th>\n",
       "      <th>tkk</th>\n",
       "      <th>tj</th>\n",
       "    </tr>\n",
       "  </thead>\n",
       "  <tbody>\n",
       "    <tr>\n",
       "      <th>kota</th>\n",
       "      <td>1.000000</td>\n",
       "      <td>0.951958</td>\n",
       "      <td>-0.075578</td>\n",
       "      <td>0.152242</td>\n",
       "      <td>0.157233</td>\n",
       "      <td>0.126701</td>\n",
       "    </tr>\n",
       "    <tr>\n",
       "      <th>kec</th>\n",
       "      <td>0.951958</td>\n",
       "      <td>1.000000</td>\n",
       "      <td>-0.092211</td>\n",
       "      <td>0.181266</td>\n",
       "      <td>0.180618</td>\n",
       "      <td>0.139086</td>\n",
       "    </tr>\n",
       "    <tr>\n",
       "      <th>trw</th>\n",
       "      <td>-0.075578</td>\n",
       "      <td>-0.092211</td>\n",
       "      <td>1.000000</td>\n",
       "      <td>0.595282</td>\n",
       "      <td>0.385286</td>\n",
       "      <td>0.382779</td>\n",
       "    </tr>\n",
       "    <tr>\n",
       "      <th>trt</th>\n",
       "      <td>0.152242</td>\n",
       "      <td>0.181266</td>\n",
       "      <td>0.595282</td>\n",
       "      <td>1.000000</td>\n",
       "      <td>0.549245</td>\n",
       "      <td>0.497684</td>\n",
       "    </tr>\n",
       "    <tr>\n",
       "      <th>tkk</th>\n",
       "      <td>0.157233</td>\n",
       "      <td>0.180618</td>\n",
       "      <td>0.385286</td>\n",
       "      <td>0.549245</td>\n",
       "      <td>1.000000</td>\n",
       "      <td>0.979855</td>\n",
       "    </tr>\n",
       "    <tr>\n",
       "      <th>tj</th>\n",
       "      <td>0.126701</td>\n",
       "      <td>0.139086</td>\n",
       "      <td>0.382779</td>\n",
       "      <td>0.497684</td>\n",
       "      <td>0.979855</td>\n",
       "      <td>1.000000</td>\n",
       "    </tr>\n",
       "  </tbody>\n",
       "</table>\n",
       "</div>"
      ],
      "text/plain": [
       "          kota       kec       trw       trt       tkk        tj\n",
       "kota  1.000000  0.951958 -0.075578  0.152242  0.157233  0.126701\n",
       "kec   0.951958  1.000000 -0.092211  0.181266  0.180618  0.139086\n",
       "trw  -0.075578 -0.092211  1.000000  0.595282  0.385286  0.382779\n",
       "trt   0.152242  0.181266  0.595282  1.000000  0.549245  0.497684\n",
       "tkk   0.157233  0.180618  0.385286  0.549245  1.000000  0.979855\n",
       "tj    0.126701  0.139086  0.382779  0.497684  0.979855  1.000000"
      ]
     },
     "execution_count": 5,
     "metadata": {},
     "output_type": "execute_result"
    }
   ],
   "source": [
    "dataset.corr()"
   ]
  },
  {
   "cell_type": "code",
   "execution_count": null,
   "id": "2c93dd8e",
   "metadata": {},
   "outputs": [],
   "source": [
    "X=dataset.iloc[:,0:5].values\n",
    "y=dataset.iloc[:,5].values"
   ]
  },
  {
   "cell_type": "code",
   "execution_count": null,
   "id": "b1ca070b",
   "metadata": {},
   "outputs": [],
   "source": [
    "from sklearn.preprocessing import LabelEncoder\n",
    "le = LabelEncoder()\n",
    "y = le.fit_transform(y)"
   ]
  },
  {
   "cell_type": "code",
   "execution_count": null,
   "id": "240f6582",
   "metadata": {},
   "outputs": [],
   "source": [
    "#Metrics\n",
    "from sklearn.metrics import make_scorer, accuracy_score,precision_score\n",
    "from sklearn.metrics import classification_report\n",
    "\n",
    "# Import Library Confussion Matrix\n",
    "from sklearn.metrics import confusion_matrix\n",
    "\n",
    "from sklearn.metrics import accuracy_score ,precision_score,recall_score,f1_score\n",
    "\n",
    "#Model Select\n",
    "from sklearn.model_selection import KFold,train_test_split,cross_val_score\n",
    "\n",
    "# Import Library Random Forest Classifier\n",
    "from sklearn.ensemble import RandomForestClassifier\n",
    "\n",
    "from sklearn.model_selection import train_test_split\n",
    "\n",
    "# from sklearn import linear_model\n",
    "from sklearn import linear_model"
   ]
  },
  {
   "cell_type": "code",
   "execution_count": null,
   "id": "9cfe1bc4",
   "metadata": {},
   "outputs": [],
   "source": [
    "#Train and Test split\n",
    "from sklearn.model_selection import train_test_split\n",
    "X_train, X_test, y_train, y_test = train_test_split(X, y, test_size=0.1,random_state=0)"
   ]
  },
  {
   "cell_type": "code",
   "execution_count": null,
   "id": "dd1ad135",
   "metadata": {},
   "outputs": [
    {
     "name": "stdout",
     "output_type": "stream",
     "text": [
      "Confusion matrix for Logistic Regression\n",
      " [[6 0 0 0 0 0 0 0 0 0 0 0 0 0 0 0]\n",
      " [0 0 1 0 0 0 0 0 0 0 0 0 0 0 0 0]\n",
      " [0 0 0 0 0 0 0 0 0 0 0 0 0 0 0 0]\n",
      " [0 0 0 0 0 0 0 0 0 0 0 0 0 0 0 0]\n",
      " [0 0 0 1 0 0 0 0 0 0 0 0 0 0 0 0]\n",
      " [0 0 0 1 0 0 0 0 0 0 0 0 0 0 0 0]\n",
      " [0 0 0 0 0 0 0 0 0 0 0 0 0 0 0 0]\n",
      " [0 0 0 0 0 0 1 0 0 0 0 0 0 0 0 0]\n",
      " [0 0 0 0 0 0 1 0 0 0 0 0 0 0 0 0]\n",
      " [0 0 0 0 0 0 0 0 0 0 0 1 0 0 0 0]\n",
      " [0 0 0 0 0 0 0 0 0 0 0 1 0 0 0 0]\n",
      " [0 0 0 0 0 0 0 0 0 0 0 0 0 0 0 0]\n",
      " [0 0 0 0 0 0 0 0 0 0 0 0 0 0 1 0]\n",
      " [0 0 0 0 0 0 0 0 0 0 0 0 0 0 0 1]\n",
      " [0 0 0 0 0 0 0 0 0 0 0 0 0 0 0 0]\n",
      " [0 0 0 0 0 0 0 0 0 0 0 0 0 0 0 0]]\n",
      "accuracy_Logistic Regression : 0.400\n",
      "precision_Logistic Regression : 0.400\n",
      "recall_Logistic Regression: 0.400\n",
      "f1-score_Logistic Regression : 0.400\n"
     ]
    }
   ],
   "source": [
    "from sklearn.linear_model import LogisticRegression\n",
    "logreg = LogisticRegression(solver= 'lbfgs',max_iter=400)\n",
    "logreg.fit(X_train, y_train)\n",
    "Y_pred = logreg.predict(X_test)\n",
    "accuracy_lr=round(accuracy_score(y_test,Y_pred)* 100, 2)\n",
    "acc_log = round(logreg.score(X_train, y_train) * 100, 2)\n",
    "\n",
    "\n",
    "cm = confusion_matrix(y_test,Y_pred)\n",
    "accuracy = accuracy_score(y_test,Y_pred)\n",
    "precision = precision_score(y_test, Y_pred,average='micro')\n",
    "recall =  recall_score(y_test, Y_pred,average='micro')\n",
    "f1 = f1_score(y_test,Y_pred,average='micro')\n",
    "print('Confusion matrix for Logistic Regression\\n',cm)\n",
    "print('accuracy_Logistic Regression : %.3f' %accuracy)\n",
    "print('precision_Logistic Regression : %.3f' %precision)\n",
    "print('recall_Logistic Regression: %.3f' %recall)\n",
    "print('f1-score_Logistic Regression : %.3f' %f1)"
   ]
  },
  {
   "cell_type": "code",
   "execution_count": null,
   "id": "160fb400",
   "metadata": {},
   "outputs": [
    {
     "data": {
      "text/plain": [
       "array([18, 47,  0, 27, 89, 27,  0, 47, 81, 70], dtype=int64)"
      ]
     },
     "execution_count": 41,
     "metadata": {},
     "output_type": "execute_result"
    }
   ],
   "source": [
    "predictions = logreg.predict(X_test)\n",
    "predictions[:10]"
   ]
  },
  {
   "cell_type": "code",
   "execution_count": null,
   "id": "bbb14e4e",
   "metadata": {},
   "outputs": [
    {
     "data": {
      "text/plain": [
       "['logreg_model.pkl']"
      ]
     },
     "execution_count": 43,
     "metadata": {},
     "output_type": "execute_result"
    }
   ],
   "source": [
    "import joblib\n",
    "joblib.dump(logreg, 'logreg_model.pkl')"
   ]
  }
 ],
 "metadata": {
  "kernelspec": {
   "display_name": "Python 3",
   "language": "python",
   "name": "python3"
  },
  "language_info": {
   "codemirror_mode": {
    "name": "ipython",
    "version": 3
   },
   "file_extension": ".py",
   "mimetype": "text/x-python",
   "name": "python",
   "nbconvert_exporter": "python",
   "pygments_lexer": "ipython3",
   "version": "3.8.3rc1"
  }
 },
 "nbformat": 4,
 "nbformat_minor": 5
}
